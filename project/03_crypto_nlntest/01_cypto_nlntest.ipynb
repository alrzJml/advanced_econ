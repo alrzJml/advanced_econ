{
 "cells": [
  {
   "cell_type": "code",
   "execution_count": 1,
   "metadata": {},
   "outputs": [],
   "source": [
    "import warnings\n",
    "warnings.filterwarnings('ignore')\n",
    "warnings.simplefilter('ignore')"
   ]
  },
  {
   "cell_type": "code",
   "execution_count": 196,
   "metadata": {},
   "outputs": [],
   "source": [
    "import yfinance as yf\n",
    "import numpy as np\n",
    "import pandas as pd\n",
    "import matplotlib.pyplot as plt\n",
    "import matplotlib.patches as mpatches\n",
    "from datetime import datetime\n",
    "import time\n",
    "import math\n",
    "import nlntest"
   ]
  },
  {
   "cell_type": "code",
   "execution_count": 3,
   "metadata": {},
   "outputs": [
    {
     "name": "stdout",
     "output_type": "stream",
     "text": [
      "['BTC-USD', 'ETH-USD', 'USDT-USD', 'BNB-USD', 'DAI-USD', 'XRP-USD', 'DOGE-USD', 'ADA-USD', 'MATIC-USD', 'DOT-USD']\n"
     ]
    }
   ],
   "source": [
    "# Bitcoin, Ethereum, Tether, BNB, Dai, XRP, Dogecoin, Cardano, Polygon, Polkadot\n",
    "\n",
    "crypto_list=    ['BTC', 'ETH', 'USDT', 'BNB', 'DAI', \n",
    "                'XRP', 'DOGE', 'ADA', 'MATIC', 'DOT']\n",
    "currency = 'USD'\n",
    "crypto_list = [f'{x}-{currency}' for x in crypto_list]\n",
    "print(crypto_list)"
   ]
  },
  {
   "cell_type": "code",
   "execution_count": 4,
   "metadata": {},
   "outputs": [
    {
     "name": "stdout",
     "output_type": "stream",
     "text": [
      "[*********************100%***********************]  10 of 10 completed\n"
     ]
    }
   ],
   "source": [
    "df_raw = yf.download(crypto_list, group_by = 'ticker', period = '100y', interval='1d')"
   ]
  },
  {
   "cell_type": "code",
   "execution_count": 119,
   "metadata": {},
   "outputs": [],
   "source": [
    "def get_is_nln(series) -> bool:\n",
    "    nln_res = nlntest.nlntstuniv(np.array(series))\n",
    "    p_val_tresh = 0.05\n",
    "    is_nln = list(filter(lambda x: x<=p_val_tresh, nln_res)).__len__() >= 2\n",
    "    return is_nln"
   ]
  },
  {
   "cell_type": "code",
   "execution_count": 120,
   "metadata": {},
   "outputs": [],
   "source": [
    "def rolling(df, window, offset) -> pd.DataFrame:\n",
    "    return df[offset:offset+window]"
   ]
  },
  {
   "cell_type": "code",
   "execution_count": 224,
   "metadata": {},
   "outputs": [
    {
     "name": "stdout",
     "output_type": "stream",
     "text": [
      "elapsed time: 1.2080087661743164\n"
     ]
    }
   ],
   "source": [
    "t = time.time()\n",
    "\n",
    "results = []\n",
    "\n",
    "for symbol in df_raw.columns.levels[0]:\n",
    "\n",
    "    df_price = df_raw.loc[:, symbol].loc[:, 'Close']\n",
    "    df_price = df_price.dropna()\n",
    "\n",
    "    windows = [1, 2, 3, 5, math.floor(df_price.shape[0]/365)]\n",
    "    step = 1\n",
    "\n",
    "    for window in windows:\n",
    "        num_of_ittr = math.floor(df_price.shape[0]/365) - window + 1\n",
    "        num_of_ittr = max(num_of_ittr, 1)\n",
    "\n",
    "        for i in range(num_of_ittr):\n",
    "            prices_in_window = rolling(df_price, 365*window, i*(step)*365)\n",
    "            ret_series = np.log(prices_in_window).diff()\n",
    "            is_nln = get_is_nln(ret_series.dropna())\n",
    "            results.append({\n",
    "                'symbol': symbol.split('-')[0],\n",
    "                'from': prices_in_window.index[0].date(),\n",
    "                'to': prices_in_window.index[-1].date(),\n",
    "                'window_size': window,\n",
    "                'offsetY': i*step,\n",
    "                'is_nln': is_nln,\n",
    "            })\n",
    "\n",
    "elapsed = time.time() - t\n",
    "print('elapsed time:', elapsed)"
   ]
  },
  {
   "cell_type": "code",
   "execution_count": 225,
   "metadata": {},
   "outputs": [],
   "source": [
    "df_res = pd.DataFrame(results)"
   ]
  },
  {
   "cell_type": "code",
   "execution_count": 228,
   "metadata": {},
   "outputs": [],
   "source": [
    "def render_mpl_table(data, col_width=3.0, row_height=0.625, font_size=14,\n",
    "                     header_color='#40466e', row_colors=['#f1f1f2', 'w'], edge_color='w',\n",
    "                     bbox=[0, 0, 1, 1], header_columns=0,\n",
    "                     ax=None, **kwargs):\n",
    "    if ax is None:\n",
    "        size = (np.array(data.shape[::-1]) + np.array([0, 1])) * np.array([col_width, row_height])\n",
    "        fig, ax = plt.subplots(figsize=size)\n",
    "        ax.axis('off')\n",
    "    mpl_table = ax.table(cellText=data.values, bbox=bbox, colLabels=data.columns, **kwargs)\n",
    "    mpl_table.auto_set_font_size(False)\n",
    "    mpl_table.set_fontsize(font_size)\n",
    "\n",
    "    for k, cell in mpl_table._cells.items():\n",
    "        cell.set_edgecolor(edge_color)\n",
    "        if k[0] == 0 or k[1] < header_columns:\n",
    "            cell.set_text_props(weight='bold', color='w')\n",
    "            cell.set_facecolor(header_color)\n",
    "        else:\n",
    "            cell.set_facecolor(row_colors[k[0]%len(row_colors) ])\n",
    "    return ax.get_figure(), ax"
   ]
  },
  {
   "cell_type": "code",
   "execution_count": 244,
   "metadata": {},
   "outputs": [],
   "source": [
    "plt.ioff()\n",
    "\n",
    "for symbol in df_res['symbol'].unique():\n",
    "\n",
    "\n",
    "    df_plt = df_res[df_res['symbol']==symbol].drop_duplicates().reset_index()\n",
    "    xtickes = []\n",
    "    positions = []\n",
    "    fig = plt.figure()\n",
    "    for i, row in df_plt.iterrows():\n",
    "        frm = datetime.strptime(str(row['from']), '%Y-%m-%d')\n",
    "        to = datetime.strptime(str(row['to']), '%Y-%m-%d')\n",
    "        xtickes.append(f\"{row['window_size']}w+{row['offsetY']}\")\n",
    "        positions.append(i+row['window_size'])\n",
    "        x, y = [frm, to], [i+row['window_size'], i+row['window_size']]\n",
    "        plt.plot(x, y, c='crimson' if row['is_nln'] else 'darkgreen', linewidth=2);\n",
    "    red_patch = mpatches.Patch(color='crimson', label='Non-Linear')\n",
    "    blue_patch = mpatches.Patch(color='darkgreen', label='Linear')\n",
    "    plt.legend(handles=[red_patch, blue_patch])\n",
    "    plt.yticks(positions, xtickes)\n",
    "    for label in fig.axes[0].get_xticklabels():\n",
    "        label.set_ha(\"right\")\n",
    "        label.set_rotation(30)\n",
    "    plt.title(symbol);\n",
    "\n",
    "    plt.savefig(f'./output/{symbol}_plot.png');\n",
    "    plt.close()\n",
    "    fig,ax = render_mpl_table(df_plt.drop('index', axis=1), header_columns=0, col_width=2.0);\n",
    "    fig.savefig(f\"./output/{symbol}_table.png\");\n",
    "    fig, ax = None, None"
   ]
  },
  {
   "cell_type": "code",
   "execution_count": null,
   "metadata": {},
   "outputs": [],
   "source": []
  }
 ],
 "metadata": {
  "kernelspec": {
   "display_name": "Python 3",
   "language": "python",
   "name": "python3"
  },
  "language_info": {
   "codemirror_mode": {
    "name": "ipython",
    "version": 3
   },
   "file_extension": ".py",
   "mimetype": "text/x-python",
   "name": "python",
   "nbconvert_exporter": "python",
   "pygments_lexer": "ipython3",
   "version": "3.9.14"
  },
  "orig_nbformat": 4,
  "vscode": {
   "interpreter": {
    "hash": "a665b5d41d17b532ea9890333293a1b812fa0b73c9c25c950b3cedf1bebd0438"
   }
  }
 },
 "nbformat": 4,
 "nbformat_minor": 2
}

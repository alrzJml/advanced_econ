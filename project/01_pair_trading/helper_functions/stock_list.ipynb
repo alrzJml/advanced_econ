{
 "cells": [
  {
   "cell_type": "code",
   "execution_count": 3,
   "metadata": {},
   "outputs": [
    {
     "name": "stderr",
     "output_type": "stream",
     "text": [
      "/opt/homebrew/lib/python3.9/site-packages/requests/__init__.py:102: RequestsDependencyWarning: urllib3 (1.26.7) or chardet (5.0.0)/charset_normalizer (2.0.7) doesn't match a supported version!\n",
      "  warnings.warn(\"urllib3 ({}) or chardet ({})/charset_normalizer ({}) doesn't match a supported \"\n"
     ]
    }
   ],
   "source": [
    "import requests\n",
    "import pandas as pd\n",
    "from pytickersymbols import PyTickerSymbols"
   ]
  },
  {
   "cell_type": "code",
   "execution_count": 4,
   "metadata": {},
   "outputs": [],
   "source": [
    "def get_tehran50_stock_list():\n",
    "    url = \"https://www.fipiran.com/IndexDetails/_IndexInstrument?Lval30=69932667409721265\"\n",
    "    x = requests.get(url)\n",
    "    stock_list = pd.read_html(x.text)[0]['نماد'].tolist()\n",
    "    return stock_list"
   ]
  },
  {
   "cell_type": "code",
   "execution_count": 5,
   "metadata": {},
   "outputs": [],
   "source": [
    "def get_stock_list(index: str = 'Teh50'):\n",
    "\n",
    "    if index == 'Teh50':\n",
    "        return get_tehran50_stock_list()\n",
    "\n",
    "    stock_data = PyTickerSymbols()\n",
    "    stock_list = list(stock_data.get_stocks_by_index(index))\n",
    "\n",
    "    stocks_in_index = []\n",
    "    for stock in stock_list:\n",
    "        for symbol in stock['symbols']:\n",
    "            if symbol['currency'] == 'USD':\n",
    "                stocks_in_index.append(symbol['yahoo'])\n",
    "                break\n",
    "        else:\n",
    "            continue\n",
    "\n",
    "    return stocks_in_index"
   ]
  },
  {
   "cell_type": "code",
   "execution_count": 6,
   "metadata": {},
   "outputs": [],
   "source": [
    "teh50_list = get_stock_list('Teh50')"
   ]
  },
  {
   "cell_type": "code",
   "execution_count": 24,
   "metadata": {},
   "outputs": [],
   "source": [
    "dow_stocks = get_stock_list('DOW JONES')"
   ]
  },
  {
   "cell_type": "code",
   "execution_count": 25,
   "metadata": {},
   "outputs": [],
   "source": [
    "cac40 = get_stock_list('CAC 40')"
   ]
  },
  {
   "cell_type": "code",
   "execution_count": 27,
   "metadata": {},
   "outputs": [],
   "source": [
    "dax = get_stock_list('Dax')"
   ]
  }
 ],
 "metadata": {
  "kernelspec": {
   "display_name": "Python 3",
   "language": "python",
   "name": "python3"
  },
  "language_info": {
   "codemirror_mode": {
    "name": "ipython",
    "version": 3
   },
   "file_extension": ".py",
   "mimetype": "text/x-python",
   "name": "python",
   "nbconvert_exporter": "python",
   "pygments_lexer": "ipython3",
   "version": "3.9.14"
  },
  "orig_nbformat": 4,
  "vscode": {
   "interpreter": {
    "hash": "a665b5d41d17b532ea9890333293a1b812fa0b73c9c25c950b3cedf1bebd0438"
   }
  }
 },
 "nbformat": 4,
 "nbformat_minor": 2
}

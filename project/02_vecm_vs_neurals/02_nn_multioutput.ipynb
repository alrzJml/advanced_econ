{
 "cells": [
  {
   "cell_type": "code",
   "execution_count": 52,
   "metadata": {},
   "outputs": [],
   "source": [
    "import numpy as np\n",
    "import pandas as pd\n",
    "\n",
    "from sklearn.datasets import make_regression\n",
    "from sklearn.multioutput import MultiOutputRegressor\n",
    "from sklearn.linear_model import Ridge\n",
    "from sklearn.neural_network import MLPRegressor\n",
    "\n",
    "from helper_functions import stock_prices, stock_list"
   ]
  },
  {
   "cell_type": "code",
   "execution_count": 20,
   "metadata": {},
   "outputs": [],
   "source": [
    "testsmpl=126\n",
    "interval = 252*3\n",
    "\n",
    "interval = 521"
   ]
  },
  {
   "cell_type": "code",
   "execution_count": 145,
   "metadata": {},
   "outputs": [
    {
     "name": "stdout",
     "output_type": "stream",
     "text": [
      "[*********************100%***********************]  2 of 2 completed\n"
     ]
    }
   ],
   "source": [
    "data_historical = stock_prices.get_prices(['AAPL', 'PG'])"
   ]
  },
  {
   "cell_type": "code",
   "execution_count": 146,
   "metadata": {},
   "outputs": [],
   "source": [
    "data_historical1 = data_historical.dropna(how='all')\n",
    "data = data_historical1[-interval:]"
   ]
  },
  {
   "cell_type": "code",
   "execution_count": 147,
   "metadata": {},
   "outputs": [],
   "source": [
    "limitPer = len(data) * .85\n",
    "data = data.dropna(thresh=limitPer, axis=1)\n",
    "\n",
    "data = np.log(data)\n",
    "\n",
    "data = data.dropna(how='any')\n",
    "\n",
    "data_train = data[:-testsmpl]\n",
    "data_test = data[-testsmpl:]\n",
    "\n",
    "df_train = data_train.copy()"
   ]
  },
  {
   "cell_type": "code",
   "execution_count": 172,
   "metadata": {},
   "outputs": [],
   "source": [
    "def lagmat(df, T=10) -> (np.array, np.array):\n",
    "    X = []\n",
    "    Y = []\n",
    "    tag = df.columns[0]\n",
    "    # df[f'{tag}_diff'] = df[tag].diff()\n",
    "    series = df[tag].to_numpy()[:]\n",
    "    for t in range(len(series) - T):\n",
    "        x = series[t:t+T]\n",
    "        X.append(x)\n",
    "        y = series[t+T]\n",
    "        Y.append(y)\n",
    "\n",
    "    X = np.array(X).reshape(-1 ,T)\n",
    "    Y = np.array(Y)\n",
    "\n",
    "    return X, Y"
   ]
  },
  {
   "cell_type": "code",
   "execution_count": 183,
   "metadata": {},
   "outputs": [],
   "source": [
    "X1, Y1 = lagmat(data[['AAPL']])\n",
    "X2, Y2 = lagmat(data[['PG']])"
   ]
  },
  {
   "cell_type": "code",
   "execution_count": 184,
   "metadata": {},
   "outputs": [],
   "source": [
    "Y1 = np.expand_dims(Y1, axis=1)\n",
    "Y2 = np.expand_dims(Y2, axis=1)\n",
    "\n",
    "X = np.hstack((X1, X2))\n",
    "Y = np.hstack((Y1, Y2))"
   ]
  },
  {
   "cell_type": "code",
   "execution_count": 187,
   "metadata": {},
   "outputs": [],
   "source": [
    "X_train, X_test = X[:-testsmpl], X[-testsmpl:] \n",
    "Y_train, Y_test = Y[:-testsmpl], Y[-testsmpl:] "
   ]
  },
  {
   "cell_type": "code",
   "execution_count": 189,
   "metadata": {},
   "outputs": [],
   "source": [
    "regr = MultiOutputRegressor(MLPRegressor(random_state=123)).fit(X_train, Y_train)"
   ]
  },
  {
   "cell_type": "code",
   "execution_count": 190,
   "metadata": {},
   "outputs": [],
   "source": [
    "Y_forecasts = regr.predict(X_test)"
   ]
  },
  {
   "cell_type": "code",
   "execution_count": 193,
   "metadata": {},
   "outputs": [],
   "source": [
    "df_data = pd.DataFrame(Y, columns=['AAPL', 'PG'])\n",
    "df_preds = pd.DataFrame(Y_forecasts, columns=['AAPL_MLP', 'PG_MLP'])"
   ]
  },
  {
   "cell_type": "code",
   "execution_count": 199,
   "metadata": {},
   "outputs": [],
   "source": [
    "df_data['AAPL_MLP'] = np.nan\n",
    "df_data['PG_MLP'] = np.nan"
   ]
  },
  {
   "cell_type": "code",
   "execution_count": 210,
   "metadata": {},
   "outputs": [],
   "source": [
    "df_data.iloc[-Y_forecasts.shape[0]:, 2] = df_preds['AAPL_MLP']\n",
    "df_data.iloc[-Y_forecasts.shape[0]:, 3] = df_preds['PG_MLP']"
   ]
  },
  {
   "cell_type": "code",
   "execution_count": 156,
   "metadata": {},
   "outputs": [],
   "source": [
    "from sklearn.metrics import mean_absolute_percentage_error\n",
    "def get_mape(df, ticker, pred_tag, test_count=126):\n",
    "    df = df.dropna(how='any')\n",
    "    test_true = df.iloc[-test_count:][ticker]\n",
    "    test_pred = df.iloc[-test_count:][f'{ticker}_{pred_tag}']\n",
    "    mapel = mean_absolute_percentage_error(\n",
    "        test_true, test_pred\n",
    "    ) \n",
    "    return mapel"
   ]
  },
  {
   "cell_type": "code",
   "execution_count": 216,
   "metadata": {},
   "outputs": [
    {
     "data": {
      "text/plain": [
       "0.8898577225515905"
      ]
     },
     "execution_count": 216,
     "metadata": {},
     "output_type": "execute_result"
    }
   ],
   "source": [
    "get_mape(df_data, ticker='AAPL', pred_tag='MLP')*100"
   ]
  },
  {
   "cell_type": "code",
   "execution_count": null,
   "metadata": {},
   "outputs": [],
   "source": []
  }
 ],
 "metadata": {
  "kernelspec": {
   "display_name": "Python 3",
   "language": "python",
   "name": "python3"
  },
  "language_info": {
   "codemirror_mode": {
    "name": "ipython",
    "version": 3
   },
   "file_extension": ".py",
   "mimetype": "text/x-python",
   "name": "python",
   "nbconvert_exporter": "python",
   "pygments_lexer": "ipython3",
   "version": "3.9.14"
  },
  "orig_nbformat": 4,
  "vscode": {
   "interpreter": {
    "hash": "a665b5d41d17b532ea9890333293a1b812fa0b73c9c25c950b3cedf1bebd0438"
   }
  }
 },
 "nbformat": 4,
 "nbformat_minor": 2
}

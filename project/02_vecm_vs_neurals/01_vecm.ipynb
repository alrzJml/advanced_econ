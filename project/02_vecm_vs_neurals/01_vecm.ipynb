{
 "cells": [
  {
   "cell_type": "code",
   "execution_count": 1,
   "metadata": {},
   "outputs": [
    {
     "name": "stderr",
     "output_type": "stream",
     "text": [
      "/opt/homebrew/lib/python3.9/site-packages/requests/__init__.py:102: RequestsDependencyWarning: urllib3 (1.26.7) or chardet (5.0.0)/charset_normalizer (2.0.7) doesn't match a supported version!\n",
      "  warnings.warn(\"urllib3 ({}) or chardet ({})/charset_normalizer ({}) doesn't match a supported \"\n"
     ]
    }
   ],
   "source": [
    "import pandas as pd\n",
    "import numpy as np\n",
    "import matplotlib.pyplot as plt\n",
    "\n",
    "from helper_functions import stock_prices, stock_list"
   ]
  },
  {
   "cell_type": "code",
   "execution_count": 2,
   "metadata": {},
   "outputs": [],
   "source": [
    "testsmpl=126\n",
    "interval = 252*3\n",
    "\n",
    "interval = 521"
   ]
  },
  {
   "cell_type": "code",
   "execution_count": 3,
   "metadata": {},
   "outputs": [],
   "source": [
    "from statsmodels.tsa.vector_ar.vecm import coint_johansen\n",
    "from statsmodels.tsa.api import VAR\n",
    "from statsmodels.tsa.vector_ar.vecm import VECM, select_coint_rank, select_order\n",
    "\n",
    "def get_cointegration_params(df, verbose=False):\n",
    "    lag_order = select_order(df, maxlags=10, deterministic=\"ci\")\n",
    "    lag_order = lag_order.aic\n",
    "\n",
    "    rank_test = select_coint_rank(df, 0, lag_order, method=\"trace\",\n",
    "                              signif=0.05)\n",
    "\n",
    "    is_cointegrated = rank_test.test_stats[0] > rank_test.crit_vals[0]\n",
    "    if verbose:\n",
    "        print(rank_test.summary())\n",
    "    if not is_cointegrated:\n",
    "        return False, np.NaN, np.NAN\n",
    "    \n",
    "    model = VECM(df, deterministic=\"ci\",\n",
    "             k_ar_diff=lag_order,\n",
    "             coint_rank=rank_test.rank)\n",
    "    vecm_res = model.fit()\n",
    "\n",
    "    return True, lag_order, rank_test.rank"
   ]
  },
  {
   "cell_type": "code",
   "execution_count": 4,
   "metadata": {},
   "outputs": [],
   "source": [
    "df = pd.DataFrame()\n",
    "file = pd.ExcelFile('../01_pair_trading/pairs_2023-01-08.xlsx')\n",
    "sheet_names = ['Dow Jones', 'CAC 40', 'Dax', 'Teh50']\n",
    "for sheet in sheet_names:\n",
    "    df_tmp = pd.read_excel(file, sheet_name=sheet)\n",
    "    df = df.append(df_tmp)\n",
    "file.close()"
   ]
  },
  {
   "cell_type": "code",
   "execution_count": 5,
   "metadata": {},
   "outputs": [],
   "source": [
    "from sklearn.metrics import mean_absolute_percentage_error\n",
    "def get_mape(df, ticker, pred_tag, test_count=126):\n",
    "    df = df.dropna(how='any')\n",
    "    test_true = df.iloc[-test_count:][ticker]\n",
    "    test_pred = df.iloc[-test_count:][f'{ticker}_{pred_tag}']\n",
    "    mapel = mean_absolute_percentage_error(\n",
    "        test_true, test_pred\n",
    "    ) \n",
    "    return mapel"
   ]
  },
  {
   "cell_type": "code",
   "execution_count": 6,
   "metadata": {},
   "outputs": [],
   "source": [
    "def groom(s):\n",
    "    s = s.replace('ي', 'ی')\n",
    "    s = s.replace('ك', 'ک')\n",
    "    return s"
   ]
  },
  {
   "cell_type": "code",
   "execution_count": 9,
   "metadata": {},
   "outputs": [
    {
     "name": "stdout",
     "output_type": "stream",
     "text": [
      "Dow Jones >>\n",
      "[*********************100%***********************]  30 of 30 completed\n",
      "CAC 40 >>\n",
      "[*********************100%***********************]  40 of 40 completed\n",
      "\n",
      "1 Failed download:\n",
      "- OCBI: No data found, symbol may be delisted\n",
      "Dax >>\n",
      "[*********************100%***********************]  40 of 40 completed\n",
      "\n",
      "1 Failed download:\n",
      "- AZSEY: No data found, symbol may be delisted\n"
     ]
    }
   ],
   "source": [
    "import itertools\n",
    "import os\n",
    "PATH = r'./preds_vecm/'\n",
    "if not os.path.exists(PATH):\n",
    "    os.makedirs(PATH)\n",
    "    \n",
    "errors = []\n",
    "\n",
    "import warnings\n",
    "warnings.filterwarnings('ignore')\n",
    "warnings.simplefilter('ignore')\n",
    "\n",
    "\n",
    "for indice in ['Dow Jones', 'CAC 40', 'Dax']:\n",
    "    print(indice, '>>', flush=True)\n",
    "    df1 = df[df['indice']==indice]\n",
    "    tickers = stock_list.get_stock_list(index=indice)\n",
    "    isTSE = (indice == 'Teh50')\n",
    "    if isTSE:\n",
    "        tickers = [groom(x) for x in tickers]\n",
    "    data_historical = stock_prices.get_prices(tickers, isTSE)\n",
    "\n",
    "\n",
    "    for i in range(df1.shape[0]):\n",
    "        ticker1, ticker2, indice = df1.iloc[i]\n",
    "\n",
    "        data_historical1 = data_historical[[ticker1, ticker2]]\n",
    "\n",
    "        data_historical1 = data_historical1.dropna(how='all')\n",
    "        data = data_historical1[-interval:]\n",
    "\n",
    "        limitPer = len(data) * .85\n",
    "        data = data.dropna(thresh=limitPer, axis=1)\n",
    "\n",
    "        data = np.log(data)\n",
    "\n",
    "        data = data.dropna(how='any')\n",
    "\n",
    "        data_train = data[:-testsmpl]\n",
    "        data_test = data[-testsmpl:]\n",
    "\n",
    "        df_train = data_train.copy()\n",
    "\n",
    "        # 1Step\n",
    "        df_train = data_train.copy()\n",
    "        is_cointegrated, lag_order, rank = get_cointegration_params(df_train)\n",
    "        if not is_cointegrated:\n",
    "            continue\n",
    "\n",
    "        df_predictions = pd.DataFrame()\n",
    "        for d in range(testsmpl):\n",
    "            model = VECM(df_train, deterministic=\"ci\",\n",
    "                    k_ar_diff=lag_order,\n",
    "                    coint_rank=rank)\n",
    "\n",
    "            vecm_res = model.fit()\n",
    "            pred = vecm_res.predict(steps=1)\n",
    "            data.loc[data_test.iloc[d].name, f'{ticker1}_1step'] = pred[0][0]\n",
    "            data.loc[data_test.iloc[d].name, f'{ticker2}_1step'] = pred[0][1]\n",
    "            df_train = df_train.append(data_test.iloc[d])\n",
    "        \n",
    "        # Multistep\n",
    "        df_train = data_train.copy()\n",
    "        is_cointegrated, lag_order, rank = get_cointegration_params(df_train)\n",
    "        if not is_cointegrated:\n",
    "            continue\n",
    "        \n",
    "        model = VECM(df_train, deterministic=\"ci\",\n",
    "                    k_ar_diff=lag_order,\n",
    "                    coint_rank=rank)\n",
    "        vecm_res = model.fit()\n",
    "        preds = vecm_res.predict(steps=testsmpl)\n",
    "        for i, pred in enumerate(preds):\n",
    "            data.loc[data_test.iloc[i].name, f'{ticker1}_multi'] = pred[0]\n",
    "            data.loc[data_test.iloc[i].name, f'{ticker2}_multi'] = pred[1]\n",
    "\n",
    "        # Plotting\n",
    "        ax = data.plot(figsize=(15, 8));\n",
    "        ax.figure.savefig(rf'./preds_vecm/{ticker1}_{ticker2}.png');\n",
    "        plt.close()\n",
    "\n",
    "        # mape\n",
    "        for ticker, tag in list(itertools.product([ticker1, ticker2], ['1step', 'multi'])):\n",
    "            mape=get_mape(data, ticker=ticker, pred_tag=tag, test_count=testsmpl)\n",
    "            errors.append({\n",
    "                'tag': f'vecm_{tag}',\n",
    "                'ticker': ticker,\n",
    "                'pair': ticker2 if ticker==ticker1 else ticker1,\n",
    "                'mape': mape*100,\n",
    "                'indice': indice\n",
    "            })\n",
    "\n",
    "filename = rf'./vecm_mape.xlsx'\n",
    "writer = pd.ExcelWriter(filename, engine='xlsxwriter')\n",
    "df_errors = pd.DataFrame(errors)\n",
    "for index, group_df in df_errors.groupby(\"indice\"):   \n",
    "    group_df.to_excel(writer, sheet_name=str(index),index=False)\n",
    "writer.save()"
   ]
  },
  {
   "cell_type": "code",
   "execution_count": null,
   "metadata": {},
   "outputs": [],
   "source": []
  }
 ],
 "metadata": {
  "kernelspec": {
   "display_name": "Python 3",
   "language": "python",
   "name": "python3"
  },
  "language_info": {
   "codemirror_mode": {
    "name": "ipython",
    "version": 3
   },
   "file_extension": ".py",
   "mimetype": "text/x-python",
   "name": "python",
   "nbconvert_exporter": "python",
   "pygments_lexer": "ipython3",
   "version": "3.9.14 (main, Sep  6 2022, 23:16:16) \n[Clang 13.1.6 (clang-1316.0.21.2.5)]"
  },
  "orig_nbformat": 4,
  "vscode": {
   "interpreter": {
    "hash": "a665b5d41d17b532ea9890333293a1b812fa0b73c9c25c950b3cedf1bebd0438"
   }
  }
 },
 "nbformat": 4,
 "nbformat_minor": 2
}

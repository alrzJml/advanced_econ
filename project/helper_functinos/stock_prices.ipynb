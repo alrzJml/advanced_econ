{
 "cells": [
  {
   "cell_type": "code",
   "execution_count": 32,
   "metadata": {},
   "outputs": [],
   "source": [
    "import pandas as pd\n",
    "import yfinance as yf       # https://pypi.org/project/yfinance/\n",
    "import pytse_client as tse\n",
    "import numpy as np"
   ]
  },
  {
   "cell_type": "code",
   "execution_count": 74,
   "metadata": {},
   "outputs": [],
   "source": [
    "def _get_tse_prices(tickers):\n",
    "    prices_dict = tse.download(symbols=tickers, adjust=True)\n",
    "    prices_dict_reform = {(outerKey, innerKey):\n",
    "                                values for outerKey, innerDict \n",
    "                                in prices_dict.items() for innerKey, values \n",
    "                                in innerDict.iteritems()}\n",
    "    df_raw = pd.DataFrame(prices_dict_reform)\n",
    "\n",
    "    dates_df = df_raw.loc[:, df_raw.columns.get_level_values(1)=='date']\n",
    "    min_date, max_date = np.min(np.min(dates_df)), np.max(np.max(dates_df))\n",
    "\n",
    "    df = pd.DataFrame()\n",
    "    df['Date'] = pd.date_range(min_date, max_date)\n",
    "\n",
    "    for symbol in df_raw.columns.levels[0]:\n",
    "        df_tmp = df_raw[symbol]\n",
    "        df_tmp = df_tmp[['date', 'adjClose']]\n",
    "        df_tmp.columns = ['Date', symbol]\n",
    "        df = df.merge(df_tmp, on='Date', how='left')\n",
    "\n",
    "    df = df.set_index('Date')\n",
    "\n",
    "    return df"
   ]
  },
  {
   "cell_type": "code",
   "execution_count": 75,
   "metadata": {},
   "outputs": [],
   "source": [
    "def get_prices(tickers, is_tse=False):\n",
    "    \n",
    "    if is_tse:\n",
    "        return _get_tse_prices(tickers)\n",
    "    else:    \n",
    "        df_raw = yf.download(tickers, group_by = 'ticker', period = '100y', interval='1d')\n",
    "        df = df_raw.loc[:, df_raw.columns.get_level_values(1)=='Adj Close']\n",
    "        df.columns = df.columns.levels[0]\n",
    "        return df"
   ]
  }
 ],
 "metadata": {
  "kernelspec": {
   "display_name": "Python 3",
   "language": "python",
   "name": "python3"
  },
  "language_info": {
   "codemirror_mode": {
    "name": "ipython",
    "version": 3
   },
   "file_extension": ".py",
   "mimetype": "text/x-python",
   "name": "python",
   "nbconvert_exporter": "python",
   "pygments_lexer": "ipython3",
   "version": "3.9.14"
  },
  "orig_nbformat": 4,
  "vscode": {
   "interpreter": {
    "hash": "a665b5d41d17b532ea9890333293a1b812fa0b73c9c25c950b3cedf1bebd0438"
   }
  }
 },
 "nbformat": 4,
 "nbformat_minor": 2
}

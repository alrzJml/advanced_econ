{
 "cells": [
  {
   "cell_type": "markdown",
   "metadata": {},
   "source": [
    "# دریافت اطلاعات نمادهای بورس تهران "
   ]
  },
  {
   "cell_type": "code",
   "execution_count": null,
   "metadata": {},
   "outputs": [],
   "source": [
    "import pandas as pd     \n",
    "import pytse_client as tse # https://pypi.org/project/pytse-client/"
   ]
  },
  {
   "cell_type": "markdown",
   "metadata": {},
   "source": [
    "## دریافت قیمت نمادها"
   ]
  },
  {
   "cell_type": "markdown",
   "metadata": {},
   "source": [
    "قیمت‌های ابتدایی، پایانی، بیشترین و کم‌ترین به همراه تعدیل‌شده‌شان را برای ۶ سهم دریافت می‌کنیم.\n",
    "شش سهم: ***شپنا، کگل، خاور، کرمان، وبصادر و فارس***\n",
    "\n",
    "برای اینکه کار کردن با دیتای خروجی راحت‌تر شود، سعی می‌کنیم تا خروجی را به یک multi-index دیتافریم تبدیل کنیم. (همانند خروجی پکیج yfinance هنگامی که دیتای چند نماد را با هم دریافت می‌کنیم) "
   ]
  },
  {
   "cell_type": "markdown",
   "metadata": {},
   "source": [
    "**در گزارش pdf که توسط مبدل لاتک خودکار تولید می‌شود، کاراکترهای فارسی حذف شده‌اند.**"
   ]
  },
  {
   "cell_type": "code",
   "execution_count": 2,
   "metadata": {},
   "outputs": [],
   "source": [
    "tickers = ['شپنا', 'کگل', 'خاور', 'کرمان', 'وبصادر', 'فارس']\n",
    "prices_dict = tse.download(symbols=tickers, adjust=True)\n",
    "prices_dict_reform = {(outerKey, innerKey):\n",
    "                             values for outerKey, innerDict \n",
    "                             in prices_dict.items() for innerKey, values \n",
    "                             in innerDict.iteritems()}\n",
    "data = pd.DataFrame(prices_dict_reform)"
   ]
  },
  {
   "cell_type": "markdown",
   "metadata": {},
   "source": [
    "دیتای همه ۶ نماد در یک دیتافریم ذخیره شده‌اند و می‌توانیم به این صورت، مثلا دیتای سهم «**خاور**» را ببینیم:"
   ]
  },
  {
   "cell_type": "markdown",
   "metadata": {},
   "source": [
    "**در گزارش pdf که توسط مبدل لاتک خودکار تولید می‌شود، کاراکترهای فارسی حذف شده‌اند.**"
   ]
  },
  {
   "cell_type": "code",
   "execution_count": 7,
   "metadata": {},
   "outputs": [
    {
     "data": {
      "text/html": [
       "<div>\n",
       "<style scoped>\n",
       "    .dataframe tbody tr th:only-of-type {\n",
       "        vertical-align: middle;\n",
       "    }\n",
       "\n",
       "    .dataframe tbody tr th {\n",
       "        vertical-align: top;\n",
       "    }\n",
       "\n",
       "    .dataframe thead th {\n",
       "        text-align: right;\n",
       "    }\n",
       "</style>\n",
       "<table border=\"1\" class=\"dataframe\">\n",
       "  <thead>\n",
       "    <tr style=\"text-align: right;\">\n",
       "      <th></th>\n",
       "      <th>open</th>\n",
       "      <th>high</th>\n",
       "      <th>low</th>\n",
       "      <th>close</th>\n",
       "      <th>adjClose</th>\n",
       "    </tr>\n",
       "    <tr>\n",
       "      <th>date</th>\n",
       "      <th></th>\n",
       "      <th></th>\n",
       "      <th></th>\n",
       "      <th></th>\n",
       "      <th></th>\n",
       "    </tr>\n",
       "  </thead>\n",
       "  <tbody>\n",
       "    <tr>\n",
       "      <th>2022-10-15</th>\n",
       "      <td>2268.0</td>\n",
       "      <td>2329.0</td>\n",
       "      <td>2241.0</td>\n",
       "      <td>2241.0</td>\n",
       "      <td>2253.0</td>\n",
       "    </tr>\n",
       "    <tr>\n",
       "      <th>2022-10-16</th>\n",
       "      <td>2186.0</td>\n",
       "      <td>2200.0</td>\n",
       "      <td>2186.0</td>\n",
       "      <td>2186.0</td>\n",
       "      <td>2186.0</td>\n",
       "    </tr>\n",
       "    <tr>\n",
       "      <th>2022-10-17</th>\n",
       "      <td>2121.0</td>\n",
       "      <td>2172.0</td>\n",
       "      <td>2121.0</td>\n",
       "      <td>2150.0</td>\n",
       "      <td>2126.0</td>\n",
       "    </tr>\n",
       "    <tr>\n",
       "      <th>2022-10-18</th>\n",
       "      <td>2154.0</td>\n",
       "      <td>2164.0</td>\n",
       "      <td>2063.0</td>\n",
       "      <td>2073.0</td>\n",
       "      <td>2094.0</td>\n",
       "    </tr>\n",
       "    <tr>\n",
       "      <th>2022-10-19</th>\n",
       "      <td>2074.0</td>\n",
       "      <td>2107.0</td>\n",
       "      <td>2032.0</td>\n",
       "      <td>2070.0</td>\n",
       "      <td>2054.0</td>\n",
       "    </tr>\n",
       "  </tbody>\n",
       "</table>\n",
       "</div>"
      ],
      "text/plain": [
       "              open    high     low   close  adjClose\n",
       "date                                                \n",
       "2022-10-15  2268.0  2329.0  2241.0  2241.0    2253.0\n",
       "2022-10-16  2186.0  2200.0  2186.0  2186.0    2186.0\n",
       "2022-10-17  2121.0  2172.0  2121.0  2150.0    2126.0\n",
       "2022-10-18  2154.0  2164.0  2063.0  2073.0    2094.0\n",
       "2022-10-19  2074.0  2107.0  2032.0  2070.0    2054.0"
      ]
     },
     "execution_count": 7,
     "metadata": {},
     "output_type": "execute_result"
    }
   ],
   "source": [
    "cols = ['open', 'high', 'low', 'close', 'adjClose']\n",
    "data['خاور'].set_index('date')[cols].tail()"
   ]
  },
  {
   "cell_type": "markdown",
   "metadata": {},
   "source": [
    "برای نوشتن در خروجی، ابتدا اسم فایل و فولدر مربوطه را انتخاب می‌کنیم. سپس در صورت موجود نبودن فولدر، آن را می‌سازیم.\n",
    "\n",
    "خروجی این مرحله در این مقصد ذخیره می‌شود:\n",
    "./excel_files/02_TSE_prices.xlsx"
   ]
  },
  {
   "cell_type": "code",
   "execution_count": 4,
   "metadata": {},
   "outputs": [],
   "source": [
    "import os\n",
    "\n",
    "dir_name = 'excel_files'\n",
    "os.makedirs(rf\"./{dir_name}\", exist_ok=True)\n",
    "output_file_name = '02_TSE_prices'\n",
    "path = rf\"./{dir_name}/{output_file_name}.xlsx\""
   ]
  },
  {
   "cell_type": "markdown",
   "metadata": {},
   "source": [
    "در یک حلقه for هر کدام از سهم‌ها را در شیت جداگانه‌ای می‌نویسیم."
   ]
  },
  {
   "cell_type": "code",
   "execution_count": 5,
   "metadata": {},
   "outputs": [],
   "source": [
    "writer = pd.ExcelWriter(path, engine = 'xlsxwriter')\n",
    "for col in data.columns.levels[0].tolist():\n",
    "    data[col].to_excel(writer, sheet_name = col)\n",
    "writer.save()"
   ]
  }
 ],
 "metadata": {
  "kernelspec": {
   "display_name": "Python 3 (ipykernel)",
   "language": "python",
   "name": "python3"
  },
  "language_info": {
   "codemirror_mode": {
    "name": "ipython",
    "version": 3
   },
   "file_extension": ".py",
   "mimetype": "text/x-python",
   "name": "python",
   "nbconvert_exporter": "python",
   "pygments_lexer": "ipython3",
   "version": "3.9.14"
  },
  "vscode": {
   "interpreter": {
    "hash": "a665b5d41d17b532ea9890333293a1b812fa0b73c9c25c950b3cedf1bebd0438"
   }
  }
 },
 "nbformat": 4,
 "nbformat_minor": 2
}

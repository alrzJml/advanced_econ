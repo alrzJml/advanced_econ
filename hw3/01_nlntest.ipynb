{
 "cells": [
  {
   "cell_type": "markdown",
   "metadata": {},
   "source": [
    "# آزمون خطی بودن"
   ]
  },
  {
   "cell_type": "code",
   "execution_count": 113,
   "metadata": {},
   "outputs": [],
   "source": [
    "import pandas as pd\n",
    "import numpy as np\n",
    "import matplotlib.pyplot as plt\n",
    "import nlntest\n",
    "from statsmodels.tsa.arima.model import ARIMA\n",
    "from statsmodels.tsa.stattools import adfuller\n",
    "from statsmodels.tsa.stattools import bds\n",
    "import yfinance as yf       # https://pypi.org/project/yfinance/\n",
    "import pytse_client as tse # https://pypi.org/project/pytse-client/"
   ]
  },
  {
   "cell_type": "markdown",
   "metadata": {},
   "source": [
    "## دریافت داده\n",
    "\n",
    "این بخش در تمرین شماره یک انجام گرفته و از همان کدها استفاده می‌شود."
   ]
  },
  {
   "cell_type": "markdown",
   "metadata": {},
   "source": [
    "دیتای اینتل و والمارت از api یاهوفایننس دریافت می‌شود:"
   ]
  },
  {
   "cell_type": "code",
   "execution_count": 2,
   "metadata": {},
   "outputs": [
    {
     "name": "stdout",
     "output_type": "stream",
     "text": [
      "[*********************100%***********************]  2 of 2 completed\n"
     ]
    }
   ],
   "source": [
    "tickers = ['INTC', 'WMT']\n",
    "data_nse = yf.download(tickers, group_by = 'ticker', start=\"2017-01-01\", end=\"2022-11-19\")"
   ]
  },
  {
   "cell_type": "markdown",
   "metadata": {},
   "source": [
    "دیتای دو سهم ایرانی شپنا و وبصادر نیز از سایت tse اسکریپ می‌شود:"
   ]
  },
  {
   "cell_type": "code",
   "execution_count": 118,
   "metadata": {},
   "outputs": [],
   "source": [
    "tickers = ['خودرو', 'شپنا']\n",
    "prices_dict = tse.download(symbols=tickers, adjust=True)\n",
    "prices_dict_reform = {(outerKey, innerKey):\n",
    "                             values for outerKey, innerDict \n",
    "                             in prices_dict.items() for innerKey, values \n",
    "                             in innerDict.iteritems()}\n",
    "data_tse = pd.DataFrame(prices_dict_reform)\n",
    "d = {'خودرو': 'Khodro', 'شپنا': 'Shepna'}\n",
    "data_tse = data_tse.rename(columns=d, level=0)"
   ]
  },
  {
   "cell_type": "markdown",
   "metadata": {},
   "source": [
    "## آشنایی با داده"
   ]
  },
  {
   "cell_type": "markdown",
   "metadata": {},
   "source": [
    "نگاهی به دیتای شرکت اینتل می‌اندازیم:"
   ]
  },
  {
   "cell_type": "code",
   "execution_count": 119,
   "metadata": {},
   "outputs": [
    {
     "data": {
      "text/html": [
       "<div>\n",
       "<style scoped>\n",
       "    .dataframe tbody tr th:only-of-type {\n",
       "        vertical-align: middle;\n",
       "    }\n",
       "\n",
       "    .dataframe tbody tr th {\n",
       "        vertical-align: top;\n",
       "    }\n",
       "\n",
       "    .dataframe thead th {\n",
       "        text-align: right;\n",
       "    }\n",
       "</style>\n",
       "<table border=\"1\" class=\"dataframe\">\n",
       "  <thead>\n",
       "    <tr style=\"text-align: right;\">\n",
       "      <th></th>\n",
       "      <th>Open</th>\n",
       "      <th>High</th>\n",
       "      <th>Low</th>\n",
       "      <th>Close</th>\n",
       "      <th>Adj Close</th>\n",
       "    </tr>\n",
       "    <tr>\n",
       "      <th>Date</th>\n",
       "      <th></th>\n",
       "      <th></th>\n",
       "      <th></th>\n",
       "      <th></th>\n",
       "      <th></th>\n",
       "    </tr>\n",
       "  </thead>\n",
       "  <tbody>\n",
       "    <tr>\n",
       "      <th>2022-11-14</th>\n",
       "      <td>30.340000</td>\n",
       "      <td>30.990000</td>\n",
       "      <td>30.180000</td>\n",
       "      <td>30.350000</td>\n",
       "      <td>30.350000</td>\n",
       "    </tr>\n",
       "    <tr>\n",
       "      <th>2022-11-15</th>\n",
       "      <td>31.100000</td>\n",
       "      <td>31.340000</td>\n",
       "      <td>30.170000</td>\n",
       "      <td>30.709999</td>\n",
       "      <td>30.709999</td>\n",
       "    </tr>\n",
       "    <tr>\n",
       "      <th>2022-11-16</th>\n",
       "      <td>30.110001</td>\n",
       "      <td>30.230000</td>\n",
       "      <td>29.440001</td>\n",
       "      <td>29.530001</td>\n",
       "      <td>29.530001</td>\n",
       "    </tr>\n",
       "    <tr>\n",
       "      <th>2022-11-17</th>\n",
       "      <td>29.070000</td>\n",
       "      <td>29.950001</td>\n",
       "      <td>29.000000</td>\n",
       "      <td>29.889999</td>\n",
       "      <td>29.889999</td>\n",
       "    </tr>\n",
       "    <tr>\n",
       "      <th>2022-11-18</th>\n",
       "      <td>30.260000</td>\n",
       "      <td>30.260000</td>\n",
       "      <td>29.610001</td>\n",
       "      <td>29.870001</td>\n",
       "      <td>29.870001</td>\n",
       "    </tr>\n",
       "  </tbody>\n",
       "</table>\n",
       "</div>"
      ],
      "text/plain": [
       "                 Open       High        Low      Close  Adj Close\n",
       "Date                                                             \n",
       "2022-11-14  30.340000  30.990000  30.180000  30.350000  30.350000\n",
       "2022-11-15  31.100000  31.340000  30.170000  30.709999  30.709999\n",
       "2022-11-16  30.110001  30.230000  29.440001  29.530001  29.530001\n",
       "2022-11-17  29.070000  29.950001  29.000000  29.889999  29.889999\n",
       "2022-11-18  30.260000  30.260000  29.610001  29.870001  29.870001"
      ]
     },
     "execution_count": 119,
     "metadata": {},
     "output_type": "execute_result"
    }
   ],
   "source": [
    "data_nse['INTC'][['Open', 'High', 'Low', 'Close', 'Adj Close']].tail()"
   ]
  },
  {
   "cell_type": "markdown",
   "metadata": {},
   "source": [
    "نگاهی به دیتای شرکت خودرو می‌اندازیم:"
   ]
  },
  {
   "cell_type": "code",
   "execution_count": 141,
   "metadata": {},
   "outputs": [
    {
     "data": {
      "text/html": [
       "<div>\n",
       "<style scoped>\n",
       "    .dataframe tbody tr th:only-of-type {\n",
       "        vertical-align: middle;\n",
       "    }\n",
       "\n",
       "    .dataframe tbody tr th {\n",
       "        vertical-align: top;\n",
       "    }\n",
       "\n",
       "    .dataframe thead th {\n",
       "        text-align: right;\n",
       "    }\n",
       "</style>\n",
       "<table border=\"1\" class=\"dataframe\">\n",
       "  <thead>\n",
       "    <tr style=\"text-align: right;\">\n",
       "      <th></th>\n",
       "      <th>open</th>\n",
       "      <th>high</th>\n",
       "      <th>low</th>\n",
       "      <th>close</th>\n",
       "      <th>adjClose</th>\n",
       "    </tr>\n",
       "    <tr>\n",
       "      <th>date</th>\n",
       "      <th></th>\n",
       "      <th></th>\n",
       "      <th></th>\n",
       "      <th></th>\n",
       "      <th></th>\n",
       "    </tr>\n",
       "  </thead>\n",
       "  <tbody>\n",
       "    <tr>\n",
       "      <th>2022-11-12</th>\n",
       "      <td>2230.0</td>\n",
       "      <td>2240.0</td>\n",
       "      <td>2157.0</td>\n",
       "      <td>2163.0</td>\n",
       "      <td>2188.0</td>\n",
       "    </tr>\n",
       "    <tr>\n",
       "      <th>2022-11-13</th>\n",
       "      <td>2152.0</td>\n",
       "      <td>2204.0</td>\n",
       "      <td>2123.0</td>\n",
       "      <td>2148.0</td>\n",
       "      <td>2159.0</td>\n",
       "    </tr>\n",
       "    <tr>\n",
       "      <th>2022-11-14</th>\n",
       "      <td>2160.0</td>\n",
       "      <td>2183.0</td>\n",
       "      <td>2109.0</td>\n",
       "      <td>2110.0</td>\n",
       "      <td>2135.0</td>\n",
       "    </tr>\n",
       "    <tr>\n",
       "      <th>2022-11-15</th>\n",
       "      <td>2173.0</td>\n",
       "      <td>2219.0</td>\n",
       "      <td>2151.0</td>\n",
       "      <td>2179.0</td>\n",
       "      <td>2180.0</td>\n",
       "    </tr>\n",
       "    <tr>\n",
       "      <th>2022-11-16</th>\n",
       "      <td>2189.0</td>\n",
       "      <td>2228.0</td>\n",
       "      <td>2152.0</td>\n",
       "      <td>2192.0</td>\n",
       "      <td>2200.0</td>\n",
       "    </tr>\n",
       "  </tbody>\n",
       "</table>\n",
       "</div>"
      ],
      "text/plain": [
       "              open    high     low   close  adjClose\n",
       "date                                                \n",
       "2022-11-12  2230.0  2240.0  2157.0  2163.0    2188.0\n",
       "2022-11-13  2152.0  2204.0  2123.0  2148.0    2159.0\n",
       "2022-11-14  2160.0  2183.0  2109.0  2110.0    2135.0\n",
       "2022-11-15  2173.0  2219.0  2151.0  2179.0    2180.0\n",
       "2022-11-16  2189.0  2228.0  2152.0  2192.0    2200.0"
      ]
     },
     "execution_count": 141,
     "metadata": {},
     "output_type": "execute_result"
    }
   ],
   "source": [
    "cols = ['open', 'high', 'low', 'close', 'adjClose']\n",
    "data_tse['Khodro'].set_index('date')[cols].tail()"
   ]
  },
  {
   "cell_type": "markdown",
   "metadata": {},
   "source": [
    "نمودار شرکت اینتل را در یک سال آخر رسم می‌کنیم تا با حرکت کلی سهم آشنا شویم:"
   ]
  },
  {
   "cell_type": "code",
   "execution_count": 121,
   "metadata": {},
   "outputs": [
    {
     "data": {
      "text/plain": [
       "<AxesSubplot:title={'center':'Adj Close for INTC'}, xlabel='Date'>"
      ]
     },
     "execution_count": 121,
     "metadata": {},
     "output_type": "execute_result"
    },
    {
     "data": {
      "image/png": "[encoded data removed]",
      "text/plain": [
       "<Figure size 1200x500 with 1 Axes>"
      ]
     },
     "metadata": {},
     "output_type": "display_data"
    }
   ],
   "source": [
    "data_nse['INTC', 'Adj Close'][-300:].plot(title='Adj Close for INTC', figsize=(12,5))"
   ]
  },
  {
   "cell_type": "markdown",
   "metadata": {},
   "source": [
    "## مدل‌سازی\n",
    "\n",
    "### تست ایستا بودن دیفرنس قیمت‌ها"
   ]
  },
  {
   "cell_type": "markdown",
   "metadata": {},
   "source": [
    "برای اینکه بدانیم آیا سری قیمت‌ها با یک‌بار دیفرنس گرفتن ایستا می‌شوند، تست ADF را انجام می‌دهیم و در صورتی که pvalue این تست کم‌تر از پنج‌درصد باشد، فرض صفر را رد می‌کنیم و سری را ایستا در نظر می‌گیریم.\n",
    "\n",
    "در صورتی که سری با یک بار دیفرنس گرفتن ایستا شود، \n",
    "بعدا در مدل ARIMA مقدار d را برابر با یک قرار می‌دهیم."
   ]
  },
  {
   "cell_type": "markdown",
   "metadata": {},
   "source": [
    ":تست ایستا بودن دیفرنس قیمت‌های اینتل"
   ]
  },
  {
   "cell_type": "code",
   "execution_count": 123,
   "metadata": {},
   "outputs": [
    {
     "data": {
      "text/plain": [
       "True"
      ]
     },
     "execution_count": 123,
     "metadata": {},
     "output_type": "execute_result"
    }
   ],
   "source": [
    "diff_adjClose = data_nse['INTC', 'Adj Close'].diff()\n",
    "adfuller(np.array(diff_adjClose)[1:])[1] < 0.05"
   ]
  },
  {
   "cell_type": "markdown",
   "metadata": {},
   "source": [
    ":تست ایستا بودن دیفرنس قیمت‌های والمارت"
   ]
  },
  {
   "cell_type": "code",
   "execution_count": 124,
   "metadata": {},
   "outputs": [
    {
     "data": {
      "text/plain": [
       "True"
      ]
     },
     "execution_count": 124,
     "metadata": {},
     "output_type": "execute_result"
    }
   ],
   "source": [
    "diff_adjClose = data_nse['WMT', 'Adj Close'].diff()\n",
    "adfuller(np.array(diff_adjClose)[1:])[1] < 0.05"
   ]
  },
  {
   "cell_type": "markdown",
   "metadata": {},
   "source": [
    ":تست ایستا بودن دیفرنس قیمت‌های خودرو"
   ]
  },
  {
   "cell_type": "code",
   "execution_count": 126,
   "metadata": {},
   "outputs": [
    {
     "data": {
      "text/plain": [
       "True"
      ]
     },
     "execution_count": 126,
     "metadata": {},
     "output_type": "execute_result"
    }
   ],
   "source": [
    "diff_adjClose = data_tse['Khodro', 'adjClose'].diff()\n",
    "diff_adjClose = diff_adjClose[~np.isnan(diff_adjClose)]\n",
    "adfuller(diff_adjClose) [1] < 0.05"
   ]
  },
  {
   "cell_type": "markdown",
   "metadata": {},
   "source": [
    ":تست ایستا بودن دیفرنس قیمت‌های شپنا"
   ]
  },
  {
   "cell_type": "code",
   "execution_count": 127,
   "metadata": {},
   "outputs": [
    {
     "data": {
      "text/plain": [
       "True"
      ]
     },
     "execution_count": 127,
     "metadata": {},
     "output_type": "execute_result"
    }
   ],
   "source": [
    "diff_adjClose = data_tse['Shepna', 'adjClose'].diff()\n",
    "diff_adjClose = diff_adjClose[~np.isnan(diff_adjClose)]\n",
    "adfuller(diff_adjClose) [1] < 0.05"
   ]
  },
  {
   "cell_type": "markdown",
   "metadata": {},
   "source": [
    "همگی سری‌های قیمتی با یک بار دیفرنس گرفتن ایستا می‌شوند؛ بنابراین می‌توانیم در مدل ARIMA مقدار d را برای همگی یک در نظر بگیریم.\n",
    "\n"
   ]
  },
  {
   "cell_type": "markdown",
   "metadata": {},
   "source": [
    "برای یافتن بهترین مدل، یک تابع می‌نویسیم. این تابع مدل‌های ARIMA مختلف را امتحان می‌کند و مدلی را که کم‌ترین aic دارد به عنوان خروجی پس می‌دهد."
   ]
  },
  {
   "cell_type": "code",
   "execution_count": 144,
   "metadata": {},
   "outputs": [],
   "source": [
    "def best_arima(data):\n",
    "    p_max = 12\n",
    "    min_aic = np.inf\n",
    "    best_model = None\n",
    "    for p in range(1, p_max):\n",
    "        model = ARIMA(data, order=(p, 1, 0)).fit()\n",
    "        if min_aic > model.aic:\n",
    "            min_aic = model.aic\n",
    "            best_model = model\n",
    "        \n",
    "    return best_model"
   ]
  },
  {
   "cell_type": "markdown",
   "metadata": {},
   "source": [
    "## نتایج"
   ]
  },
  {
   "cell_type": "markdown",
   "metadata": {},
   "source": [
    "### سهم خودرو\n",
    "\n",
    "پس از گرفتن مانده‌ بهترین مدل ARIMA تست خطی بودن را اجرا می‌کنیم.\n",
    "\n",
    "نتیجه: همه آزمون‌های خطی، فرض صفر را رد کرده‌اند. بنابراین سری قیمتی خودرو، رفتاری غیرخطی دارد."
   ]
  },
  {
   "cell_type": "code",
   "execution_count": 129,
   "metadata": {},
   "outputs": [
    {
     "name": "stdout",
     "output_type": "stream",
     "text": [
      "\n",
      "------------------ Linearity Test of Univariate time Series--------------------\n",
      "\n",
      "H0: Model is linear,  PValue of Ramsey Test             1.1102230246251565e-16\n",
      "H0: Model is linear,  PValue of Keenan Test             1.1102230246251565e-16\n",
      "H0: Model is linear,  PValue of Tsay Test               1.1102230246251565e-16\n",
      "H0: Model is linear,  PValue of Terasvirta et al. Test  1.1102230246251565e-16\n",
      "-------------------------------------------------------------------------------\n",
      "Ref. Mohammadi S.(2019). Neural network for univariate and multivariate nonlinearity tests. Stat Anal Data Min: The ASA DataSci Journal.13:50-70. https://doi.org/10.1002/sam.11441\n"
     ]
    },
    {
     "data": {
      "text/plain": [
       "(array([1.11022302e-16]),\n",
       " array([1.11022302e-16]),\n",
       " array([1.11022302e-16]),\n",
       " array([1.11022302e-16]))"
      ]
     },
     "execution_count": 129,
     "metadata": {},
     "output_type": "execute_result"
    }
   ],
   "source": [
    "symbol = 'Khodro'\n",
    "not_null_data = data_tse[data_tse[symbol, 'adjClose'].notna()][symbol, 'adjClose']\n",
    "arim_model = best_arima(not_null_data)\n",
    "residuals1 = arim_model.resid\n",
    "nlntest.nlntstuniv(np.array(residuals1))"
   ]
  },
  {
   "cell_type": "markdown",
   "metadata": {},
   "source": [
    "### سهم شپنا\n",
    "\n",
    "پس از گرفتن مانده‌ بهترین مدل ARIMA تست خطی بودن را اجرا می‌کنیم.\n",
    "\n",
    "نتیجه: همه آزمون‌های خطی، فرض صفر را رد کرده‌اند. بنابراین سری قیمتی شپنا، رفتاری غیرخطی دارد."
   ]
  },
  {
   "cell_type": "code",
   "execution_count": 131,
   "metadata": {},
   "outputs": [
    {
     "name": "stdout",
     "output_type": "stream",
     "text": [
      "\n",
      "------------------ Linearity Test of Univariate time Series--------------------\n",
      "\n",
      "H0: Model is linear,  PValue of Ramsey Test             1.1102230246251565e-16\n",
      "H0: Model is linear,  PValue of Keenan Test             2.9976021664879227e-15\n",
      "H0: Model is linear,  PValue of Tsay Test               2.9976021664879227e-15\n",
      "H0: Model is linear,  PValue of Terasvirta et al. Test  1.1102230246251565e-16\n",
      "-------------------------------------------------------------------------------\n",
      "Ref. Mohammadi S.(2019). Neural network for univariate and multivariate nonlinearity tests. Stat Anal Data Min: The ASA DataSci Journal.13:50-70. https://doi.org/10.1002/sam.11441\n"
     ]
    },
    {
     "data": {
      "text/plain": [
       "(array([1.11022302e-16]),\n",
       " array([2.99760217e-15]),\n",
       " array([2.99760217e-15]),\n",
       " array([1.11022302e-16]))"
      ]
     },
     "execution_count": 131,
     "metadata": {},
     "output_type": "execute_result"
    }
   ],
   "source": [
    "symbol = 'Shepna'\n",
    "not_null_data = data_tse[data_tse[symbol, 'adjClose'].notna()][symbol, 'adjClose']\n",
    "arim_model = best_arima(not_null_data)\n",
    "residuals = arim_model.resid\n",
    "nlntest.nlntstuniv(np.array(residuals))"
   ]
  },
  {
   "cell_type": "markdown",
   "metadata": {},
   "source": [
    "### سهم اینتل\n",
    "\n",
    "پس از گرفتن مانده‌ بهترین مدل ARIMA تست خطی بودن را اجرا می‌کنیم.\n",
    "\n",
    "نتیجه: هیچ‌کدام از آزمون‌های خطی، فرض صفر را رد نکرده‌اند. بنابراین سری قیمتی اینتل، رفتاری خطی دارد."
   ]
  },
  {
   "cell_type": "code",
   "execution_count": 137,
   "metadata": {},
   "outputs": [
    {
     "name": "stdout",
     "output_type": "stream",
     "text": [
      "\n",
      "------------------ Linearity Test of Univariate time Series--------------------\n",
      "\n",
      "H0: Model is linear,  PValue of Ramsey Test             0.12002599396046165\n",
      "H0: Model is linear,  PValue of Keenan Test             0.48056564883432895\n",
      "H0: Model is linear,  PValue of Tsay Test               0.48056564883432984\n",
      "H0: Model is linear,  PValue of Terasvirta et al. Test  0.02576320329911097\n",
      "-------------------------------------------------------------------------------\n",
      "Ref. Mohammadi S.(2019). Neural network for univariate and multivariate nonlinearity tests. Stat Anal Data Min: The ASA DataSci Journal.13:50-70. https://doi.org/10.1002/sam.11441\n"
     ]
    },
    {
     "data": {
      "text/plain": [
       "(array([0.12002599]),\n",
       " array([0.48056565]),\n",
       " array([0.48056565]),\n",
       " array([0.0257632]))"
      ]
     },
     "execution_count": 137,
     "metadata": {},
     "output_type": "execute_result"
    }
   ],
   "source": [
    "symbol = 'INTC'\n",
    "not_null_data = data_nse[data_nse[symbol, 'Adj Close'].notna()][symbol, 'Adj Close']\n",
    "not_null_data = np.array(not_null_data)\n",
    "arim_model = best_arima(not_null_data)\n",
    "residuals = arim_model.resid\n",
    "nlntest.nlntstuniv(np.array(residuals))"
   ]
  },
  {
   "cell_type": "markdown",
   "metadata": {},
   "source": [
    "### سهم والمارت\n",
    "\n",
    "پس از گرفتن مانده‌ بهترین مدل ARIMA تست خطی بودن را اجرا می‌کنیم.\n",
    "\n",
    "نتیجه: آزمون ترسورتا فرض صفر را کرده است. اما سه آزمون دیگر در سطح اطمینان ۹۵ درصد فرض صفر را رد نکرده‌اند. هر چند تست رمزی نیز بسیار به مقدار بحرانی نیزدیک است.\n",
    "در مورد سری قیمتی والمارت نمی‌توان با قطعیت نظر دارد."
   ]
  },
  {
   "cell_type": "code",
   "execution_count": 138,
   "metadata": {},
   "outputs": [
    {
     "name": "stdout",
     "output_type": "stream",
     "text": [
      "\n",
      "------------------ Linearity Test of Univariate time Series--------------------\n",
      "\n",
      "H0: Model is linear,  PValue of Ramsey Test             0.005049658765449827\n",
      "H0: Model is linear,  PValue of Keenan Test             0.7167640875642718\n",
      "H0: Model is linear,  PValue of Tsay Test               0.7167640875642678\n",
      "H0: Model is linear,  PValue of Terasvirta et al. Test  0.0005997956456036402\n",
      "-------------------------------------------------------------------------------\n",
      "Ref. Mohammadi S.(2019). Neural network for univariate and multivariate nonlinearity tests. Stat Anal Data Min: The ASA DataSci Journal.13:50-70. https://doi.org/10.1002/sam.11441\n"
     ]
    },
    {
     "data": {
      "text/plain": [
       "(array([0.00504966]),\n",
       " array([0.71676409]),\n",
       " array([0.71676409]),\n",
       " array([0.0005998]))"
      ]
     },
     "execution_count": 138,
     "metadata": {},
     "output_type": "execute_result"
    }
   ],
   "source": [
    "symbol = 'WMT'\n",
    "not_null_data = data_nse[data_nse[symbol, 'Adj Close'].notna()][symbol, 'Adj Close']\n",
    "not_null_data = np.array(not_null_data)\n",
    "arim_model = best_arima(not_null_data)\n",
    "residuals = arim_model.resid\n",
    "nlntest.nlntstuniv(np.array(residuals))"
   ]
  }
 ],
 "metadata": {
  "kernelspec": {
   "display_name": "Python 3.9.14 64-bit",
   "language": "python",
   "name": "python3"
  },
  "language_info": {
   "codemirror_mode": {
    "name": "ipython",
    "version": 3
   },
   "file_extension": ".py",
   "mimetype": "text/x-python",
   "name": "python",
   "nbconvert_exporter": "python",
   "pygments_lexer": "ipython3",
   "version": "3.9.14"
  },
  "orig_nbformat": 4,
  "vscode": {
   "interpreter": {
    "hash": "a665b5d41d17b532ea9890333293a1b812fa0b73c9c25c950b3cedf1bebd0438"
   }
  }
 },
 "nbformat": 4,
 "nbformat_minor": 2
}

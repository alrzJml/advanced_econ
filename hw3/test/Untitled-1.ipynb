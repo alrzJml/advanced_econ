{
 "cells": [
  {
   "cell_type": "code",
   "execution_count": 1,
   "metadata": {},
   "outputs": [],
   "source": [
    "import numpy as np\n",
    "import pandas_datareader as pdr\n",
    "import pandas as pd\n",
    "import nlntest as nlt\n",
    "from statsmodels.tsa.stattools import bds"
   ]
  },
  {
   "cell_type": "code",
   "execution_count": 7,
   "metadata": {},
   "outputs": [],
   "source": [
    "X = np.arange(1, 10000);\n",
    "y = np.sin(X)"
   ]
  },
  {
   "cell_type": "code",
   "execution_count": 8,
   "metadata": {},
   "outputs": [
    {
     "name": "stdout",
     "output_type": "stream",
     "text": [
      "\n",
      "------------------ Linearity Test of Univariate time Series--------------------\n",
      "\n",
      "H0: Model is linear,  PValue of Ramsey Test             1.1102230246251565e-16\n",
      "H0: Model is linear,  PValue of Keenan Test             0.8032912575665502\n",
      "H0: Model is linear,  PValue of Tsay Test               0.9936044921884631\n",
      "H0: Model is linear,  PValue of Terasvirta et al. Test  1.1102230246251565e-16\n",
      "-------------------------------------------------------------------------------\n",
      "Ref. Mohammadi S.(2019). Neural network for univariate and multivariate nonlinearity tests. Stat Anal Data Min: The ASA DataSci Journal.13:50-70. https://doi.org/10.1002/sam.11441\n"
     ]
    }
   ],
   "source": [
    "results=nlt.nlntstuniv(y)"
   ]
  },
  {
   "cell_type": "code",
   "execution_count": null,
   "metadata": {},
   "outputs": [],
   "source": []
  }
 ],
 "metadata": {
  "kernelspec": {
   "display_name": "Python 3.11.0 64-bit",
   "language": "python",
   "name": "python3"
  },
  "language_info": {
   "codemirror_mode": {
    "name": "ipython",
    "version": 3
   },
   "file_extension": ".py",
   "mimetype": "text/x-python",
   "name": "python",
   "nbconvert_exporter": "python",
   "pygments_lexer": "ipython3",
   "version": "3.11.0"
  },
  "orig_nbformat": 4,
  "vscode": {
   "interpreter": {
    "hash": "aee8b7b246df8f9039afb4144a1f6fd8d2ca17a180786b69acc140d282b71a49"
   }
  }
 },
 "nbformat": 4,
 "nbformat_minor": 2
}
